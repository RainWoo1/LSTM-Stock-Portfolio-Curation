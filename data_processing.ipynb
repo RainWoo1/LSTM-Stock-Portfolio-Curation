{
 "cells": [
  {
   "cell_type": "code",
   "execution_count": null,
   "metadata": {},
   "outputs": [],
   "source": [
    "# data processing\n",
    "import pandas as pd\n",
    "import sqlite3\n",
    "\n",
    "conn = sqlite3.connect('stock_dataset.db')\n",
    "\n",
    "df = pd.read_csv('data/hackathon_sample_v2.csv')\n",
    "\n",
    "df.to_sql('hackathon_sample_v2', conn, if_exists='replace', index=False)\n",
    "\n",
    "\n",
    "filtered_df = pd.read_sql_query(\"SELECT year, month, intrinsic_value,stock_exret, stock_ticker,comp_name,be_me,ni_me,fcf_me,betadown_252d, ni_ar1, z_score, ebit_sale, at_turnover, market_equity FROM hackathon_sample_v2\", conn)\n",
    "filtered_df.dropna(inplace=True)  # Remove rows with any null values\n",
    "filtered_df['roic'] = filtered_df['ebit_sale'] * filtered_df['at_turnover']\n",
    "\n",
    "filtered_df['bvps'] = filtered_df['be_me']*filtered_df['market_equity']\n",
    "\n",
    "# Sort by stock_ticker, year, and month to ensure correct order\n",
    "filtered_df.sort_values(by=['stock_ticker', 'year', 'month'], inplace=True)\n",
    "\n",
    "# Calculate the BVPS change from the previous month\n",
    "filtered_df['prev_bvps'] = filtered_df.groupby('stock_ticker')['bvps'].shift(1)\n",
    "filtered_df['bvps_change'] = (filtered_df['bvps'] - filtered_df['prev_bvps']) / filtered_df['prev_bvps']\n",
    "\n",
    "# Calculate the at_turnover change for sales growth change from the previous month\n",
    "filtered_df['prev_at_turnover'] = filtered_df.groupby('stock_ticker')['at_turnover'].shift(1)\n",
    "filtered_df['at_turnover_change'] = (filtered_df['at_turnover'] - filtered_df['prev_at_turnover']) / filtered_df['prev_at_turnover']\n",
    "\n",
    "# Calculate the earnings to price  growth change from the previous month\n",
    "filtered_df['prev_ni_me'] = filtered_df.groupby('stock_ticker')['ni_me'].shift(1)\n",
    "filtered_df['ni_me_change'] = (filtered_df['ni_me'] - filtered_df['prev_ni_me']) / filtered_df['prev_ni_me']\n",
    "\n",
    "# Calculate the FCF to price  growth change from the previous month\n",
    "filtered_df['prev_fcf_me'] = filtered_df.groupby('stock_ticker')['fcf_me'].shift(1)\n",
    "filtered_df['fcf_me_change'] = (filtered_df['fcf_me'] - filtered_df['prev_fcf_me']) / filtered_df['prev_fcf_me']\n",
    "\n",
    "\n",
    "# Save back to the database\n",
    "filtered_df.to_sql('filtered_hackathon_sample_v2', conn, if_exists='replace', index=False)\n",
    "filtered_df.to_csv('filtered_stock_data.csv', index=False)\n",
    "\n",
    "conn.commit()\n",
    "conn.close()\n"
   ]
  },
  {
   "cell_type": "code",
   "execution_count": null,
   "metadata": {},
   "outputs": [],
   "source": [
    "# load data into a pandas dataframe\n",
    "import pandas as pd\n",
    "import sqlite3\n",
    "\n",
    "conn = sqlite3.connect('stock_dataset.db')\n",
    "\n",
    "df = pd.read_sql_query(\"SELECT * FROM filtered_hackathon_sample_v2\", conn)\n",
    "conn.close()\n",
    "print(df.head())"
   ]
  },
  {
   "cell_type": "code",
   "execution_count": null,
   "metadata": {},
   "outputs": [],
   "source": [
    "import pandas as pd\n",
    "import os\n",
    "\n",
    "# Load the full dataset\n",
    "df = pd.read_csv('filtered_stock_data.csv')\n",
    "\n",
    "# Create a folder for company files\n",
    "os.makedirs(\"data\", exist_ok=True)\n",
    "\n",
    "# Save each company separately as CSV\n",
    "for company in df['stock_ticker'].unique():\n",
    "    safe_company_name = company.replace(\"/\", \"_\")  # Replace '/' with '_'\n",
    "    company_df = df[df['stock_ticker'] == company]\n",
    "    \n",
    "    # Save as CSV instead of Parquet\n",
    "    company_df.to_csv(f'data/{safe_company_name}.csv', index=False)\n",
    "\n",
    "print(\"All company data saved separately as CSV.\")"
   ]
  }
 ],
 "metadata": {
  "kernelspec": {
   "display_name": "Python 3",
   "language": "python",
   "name": "python3"
  },
  "language_info": {
   "codemirror_mode": {
    "name": "ipython",
    "version": 3
   },
   "file_extension": ".py",
   "mimetype": "text/x-python",
   "name": "python",
   "nbconvert_exporter": "python",
   "pygments_lexer": "ipython3",
   "version": "3.9.13"
  }
 },
 "nbformat": 4,
 "nbformat_minor": 2
}
